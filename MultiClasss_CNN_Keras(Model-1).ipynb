{
 "cells": [
  {
   "cell_type": "code",
   "execution_count": 3,
   "metadata": {
    "_cell_guid": "b1076dfc-b9ad-4769-8c92-a6c4dae69d19",
    "_uuid": "8f2839f25d086af736a60e9eeb907d3b93b6e0e5"
   },
   "outputs": [
    {
     "name": "stderr",
     "output_type": "stream",
     "text": [
      "Using TensorFlow backend.\n"
     ]
    }
   ],
   "source": [
    "# Importing modules \n",
    "import numpy as np \n",
    "import pandas as pd \n",
    "import os\n",
    "import matplotlib.pyplot as plt\n",
    "import cv2\n",
    "from PIL import Image\n",
    "\n",
    "from keras.utils import to_categorical\n",
    "from keras.layers import Dense,Conv2D,Flatten,MaxPool2D,Dropout\n",
    "from keras.models import Sequential\n",
    "from keras.layers import MaxPooling2D , Input ,Activation\n",
    "from keras import backend as K\n",
    "from keras.optimizers import SGD\n",
    "\n",
    "from sklearn.model_selection import train_test_split\n",
    "\n",
    "np.random.seed(1)\n",
    "from tqdm import tqdm"
   ]
  },
  {
   "cell_type": "code",
   "execution_count": 4,
   "metadata": {},
   "outputs": [
    {
     "name": "stderr",
     "output_type": "stream",
     "text": [
      "100%|█████████████████████████████████████████████████████████████████████████████| 6046/6046 [00:43<00:00, 137.55it/s]\n"
     ]
    }
   ],
   "source": [
    "# Processing training data\n",
    "# -> appending images in a list 'train_images'\n",
    "# -> appending labels in a list 'train_labels'\n",
    "\n",
    "train_images = []       \n",
    "train_labels = []\n",
    "shape = (50,50)  \n",
    "train_path = 'Train(500)'\n",
    "\n",
    "for filename in tqdm(os.listdir('Train(500)')):\n",
    "    if filename.split('.')[1] == 'jpg':\n",
    "        img = cv2.imread(os.path.join(train_path,filename))\n",
    "        \n",
    "        # Spliting file names and storing the labels for image in list\n",
    "        train_labels.append(filename.split('_')[0])\n",
    "        \n",
    "        # Resize all images to a specific shape\n",
    "        img = cv2.resize(img,shape)\n",
    "        \n",
    "        train_images.append(img)\n",
    "\n",
    "# Converting labels into One Hot encoded sparse matrix\n",
    "train_labels = pd.get_dummies(train_labels).values\n",
    "\n",
    "# Converting train_images to array\n",
    "train_images = np.array(train_images)\n",
    "\n",
    "# Splitting Training data into train and validation dataset\n",
    "x_train,x_val,y_train,y_val = train_test_split(train_images,train_labels,random_state=1)"
   ]
  },
  {
   "cell_type": "code",
   "execution_count": 10,
   "metadata": {},
   "outputs": [
    {
     "name": "stdout",
     "output_type": "stream",
     "text": [
      "(4534, 50, 50, 3)\n",
      "(4534, 10)\n",
      "(1512, 50, 50, 3)\n",
      "(1512, 10)\n"
     ]
    }
   ],
   "source": [
    "print(x_train.shape)\n",
    "print(y_train.shape)\n",
    "print(x_val.shape)\n",
    "print(y_val.shape)"
   ]
  },
  {
   "cell_type": "code",
   "execution_count": 11,
   "metadata": {},
   "outputs": [
    {
     "name": "stderr",
     "output_type": "stream",
     "text": [
      "100%|█████████████████████████████████████████████████████████████████████████████| 2163/2163 [00:15<00:00, 139.04it/s]\n"
     ]
    }
   ],
   "source": [
    "# Processing testing data\n",
    "# -> appending images in a list 'test_images'\n",
    "# -> appending labels in a list 'test_labels'\n",
    "# The test data contains labels as well also we are appending it to a list but we are'nt going to use it while training.\n",
    "\n",
    "test_images = []\n",
    "test_labels = []\n",
    "shape = (50,50)\n",
    "test_path = 'Test(500)'\n",
    "\n",
    "for filename in tqdm(os.listdir('Test(500)')):\n",
    "    if filename.split('.')[1] == 'jpg':\n",
    "        img = cv2.imread(os.path.join(test_path,filename))\n",
    "        \n",
    "        # Spliting file names and storing the labels for image in list\n",
    "        test_labels.append(filename.split('_')[0])\n",
    "        \n",
    "        # Resize all images to a specific shape\n",
    "        img = cv2.resize(img,shape)\n",
    "        \n",
    "        test_images.append(img)\n",
    "        \n",
    "# Converting test_images to array\n",
    "test_images = np.array(test_images)"
   ]
  },
  {
   "cell_type": "code",
   "execution_count": 12,
   "metadata": {},
   "outputs": [
    {
     "name": "stdout",
     "output_type": "stream",
     "text": [
      "[1 0 0 0 0 0 0 0 0 0]\n"
     ]
    },
    {
     "data": {
      "text/plain": [
       "<matplotlib.image.AxesImage at 0x18e4dedd188>"
      ]
     },
     "execution_count": 12,
     "metadata": {},
     "output_type": "execute_result"
    },
    {
     "data": {
      "image/png": "[encoded data removed]",
      "text/plain": [
       "<Figure size 432x288 with 1 Axes>"
      ]
     },
     "metadata": {
      "needs_background": "light"
     },
     "output_type": "display_data"
    }
   ],
   "source": [
    "# Visualizing Training data\n",
    "print(train_labels[0])\n",
    "plt.imshow(train_images[0])"
   ]
  },
  {
   "cell_type": "code",
   "execution_count": 13,
   "metadata": {},
   "outputs": [
    {
     "name": "stdout",
     "output_type": "stream",
     "text": [
      "[1 0 0 0 0 0 0 0 0 0]\n"
     ]
    },
    {
     "data": {
      "text/plain": [
       "<matplotlib.image.AxesImage at 0x18e5768e888>"
      ]
     },
     "execution_count": 13,
     "metadata": {},
     "output_type": "execute_result"
    },
    {
     "data": {
      "image/png": "[encoded data removed]",
      "text/plain": [
       "<Figure size 432x288 with 1 Axes>"
      ]
     },
     "metadata": {
      "needs_background": "light"
     },
     "output_type": "display_data"
    }
   ],
   "source": [
    "# Visualizing Training data\n",
    "print(train_labels[4])\n",
    "plt.imshow(train_images[4])"
   ]
  },
  {
   "cell_type": "code",
   "execution_count": 14,
   "metadata": {},
   "outputs": [
    {
     "name": "stdout",
     "output_type": "stream",
     "text": [
      "Model: \"sequential_2\"\n",
      "_________________________________________________________________\n",
      "Layer (type)                 Output Shape              Param #   \n",
      "=================================================================\n",
      "conv2d_5 (Conv2D)            (None, 48, 48, 32)        896       \n",
      "_________________________________________________________________\n",
      "conv2d_6 (Conv2D)            (None, 46, 46, 30)        8670      \n",
      "_________________________________________________________________\n",
      "max_pooling2d_3 (MaxPooling2 (None, 23, 23, 30)        0         \n",
      "_________________________________________________________________\n",
      "conv2d_7 (Conv2D)            (None, 21, 21, 30)        8130      \n",
      "_________________________________________________________________\n",
      "max_pooling2d_4 (MaxPooling2 (None, 10, 10, 30)        0         \n",
      "_________________________________________________________________\n",
      "conv2d_8 (Conv2D)            (None, 8, 8, 30)          8130      \n",
      "_________________________________________________________________\n",
      "flatten_2 (Flatten)          (None, 1920)              0         \n",
      "_________________________________________________________________\n",
      "dense_4 (Dense)              (None, 20)                38420     \n",
      "_________________________________________________________________\n",
      "dense_5 (Dense)              (None, 15)                315       \n",
      "_________________________________________________________________\n",
      "dense_6 (Dense)              (None, 10)                160       \n",
      "=================================================================\n",
      "Total params: 64,721\n",
      "Trainable params: 64,721\n",
      "Non-trainable params: 0\n",
      "_________________________________________________________________\n"
     ]
    }
   ],
   "source": [
    "# Creating a Sequential model\n",
    "model= Sequential()\n",
    "model.add(Conv2D(kernel_size=(3,3), filters=32, activation='tanh', input_shape=(50,50,3,)))\n",
    "model.add(Conv2D(filters=30,kernel_size = (3,3),activation='tanh'))\n",
    "model.add(MaxPool2D(2,2))\n",
    "model.add(Conv2D(filters=30,kernel_size = (3,3),activation='tanh'))\n",
    "model.add(MaxPool2D(2,2))\n",
    "model.add(Conv2D(filters=30,kernel_size = (3,3),activation='tanh'))\n",
    "\n",
    "model.add(Flatten())\n",
    "\n",
    "model.add(Dense(20,activation='relu'))\n",
    "model.add(Dense(15,activation='relu'))\n",
    "model.add(Dense(10,activation = 'softmax'))\n",
    "    \n",
    "model.compile(\n",
    "              loss='categorical_crossentropy', \n",
    "              metrics=['acc'],\n",
    "              optimizer='adam')\n",
    "\n",
    "model.summary()"
   ]
  },
  {
   "cell_type": "code",
   "execution_count": 15,
   "metadata": {
    "scrolled": false
   },
   "outputs": [
    {
     "name": "stdout",
     "output_type": "stream",
     "text": [
      "WARNING:tensorflow:From c:\\users\\greyc\\appdata\\local\\programs\\python\\python37\\lib\\site-packages\\keras\\backend\\tensorflow_backend.py:422: The name tf.global_variables is deprecated. Please use tf.compat.v1.global_variables instead.\n",
      "\n",
      "Train on 4534 samples, validate on 1512 samples\n",
      "Epoch 1/25\n",
      "4534/4534 [==============================] - 9s 2ms/step - loss: 2.0210 - acc: 0.2572 - val_loss: 1.7458 - val_acc: 0.3995\n",
      "Epoch 2/25\n",
      "4534/4534 [==============================] - 3s 663us/step - loss: 1.5310 - acc: 0.4687 - val_loss: 1.3609 - val_acc: 0.5172\n",
      "Epoch 3/25\n",
      "4534/4534 [==============================] - 3s 664us/step - loss: 1.2115 - acc: 0.5807 - val_loss: 1.1298 - val_acc: 0.5952\n",
      "Epoch 4/25\n",
      "4534/4534 [==============================] - 3s 663us/step - loss: 0.9977 - acc: 0.6337 - val_loss: 1.0525 - val_acc: 0.6058\n",
      "Epoch 5/25\n",
      "4534/4534 [==============================] - 3s 663us/step - loss: 0.8704 - acc: 0.6853 - val_loss: 0.9876 - val_acc: 0.6396\n",
      "Epoch 6/25\n",
      "4534/4534 [==============================] - 3s 663us/step - loss: 0.7679 - acc: 0.7228 - val_loss: 0.9383 - val_acc: 0.6620\n",
      "Epoch 7/25\n",
      "4534/4534 [==============================] - 3s 663us/step - loss: 0.6836 - acc: 0.7541 - val_loss: 1.0091 - val_acc: 0.6442\n",
      "Epoch 8/25\n",
      "4534/4534 [==============================] - 3s 669us/step - loss: 0.6059 - acc: 0.7779 - val_loss: 0.9710 - val_acc: 0.6647\n",
      "Epoch 9/25\n",
      "4534/4534 [==============================] - 3s 665us/step - loss: 0.5546 - acc: 0.8002 - val_loss: 0.8691 - val_acc: 0.6878\n",
      "Epoch 10/25\n",
      "4534/4534 [==============================] - 3s 661us/step - loss: 0.4806 - acc: 0.8255 - val_loss: 0.9122 - val_acc: 0.6898\n",
      "Epoch 11/25\n",
      "4534/4534 [==============================] - 3s 661us/step - loss: 0.4110 - acc: 0.8569 - val_loss: 0.9214 - val_acc: 0.6905\n",
      "Epoch 12/25\n",
      "4534/4534 [==============================] - 3s 662us/step - loss: 0.3587 - acc: 0.8769 - val_loss: 0.9327 - val_acc: 0.6799\n",
      "Epoch 13/25\n",
      "4534/4534 [==============================] - 3s 662us/step - loss: 0.3059 - acc: 0.9001 - val_loss: 0.9076 - val_acc: 0.7070\n",
      "Epoch 14/25\n",
      "4534/4534 [==============================] - 3s 665us/step - loss: 0.2579 - acc: 0.9138 - val_loss: 1.0058 - val_acc: 0.6964\n",
      "Epoch 15/25\n",
      "4534/4534 [==============================] - 3s 667us/step - loss: 0.2245 - acc: 0.9243 - val_loss: 1.0006 - val_acc: 0.7057\n",
      "Epoch 16/25\n",
      "4534/4534 [==============================] - 3s 660us/step - loss: 0.2185 - acc: 0.9307 - val_loss: 1.1029 - val_acc: 0.6845\n",
      "Epoch 17/25\n",
      "4534/4534 [==============================] - 3s 660us/step - loss: 0.2081 - acc: 0.9318 - val_loss: 1.0694 - val_acc: 0.7011\n",
      "Epoch 18/25\n",
      "4534/4534 [==============================] - 3s 661us/step - loss: 0.1687 - acc: 0.9477 - val_loss: 1.0535 - val_acc: 0.7130\n",
      "Epoch 19/25\n",
      "4534/4534 [==============================] - 3s 661us/step - loss: 0.1284 - acc: 0.9634 - val_loss: 1.0821 - val_acc: 0.7017\n",
      "Epoch 20/25\n",
      "4534/4534 [==============================] - 3s 659us/step - loss: 0.0827 - acc: 0.9830 - val_loss: 1.1476 - val_acc: 0.7090\n",
      "Epoch 21/25\n",
      "4534/4534 [==============================] - 3s 661us/step - loss: 0.0612 - acc: 0.9888 - val_loss: 1.1363 - val_acc: 0.7063\n",
      "Epoch 22/25\n",
      "4534/4534 [==============================] - 3s 663us/step - loss: 0.0502 - acc: 0.9916 - val_loss: 1.2546 - val_acc: 0.7037\n",
      "Epoch 23/25\n",
      "4534/4534 [==============================] - 3s 664us/step - loss: 0.0331 - acc: 0.9980 - val_loss: 1.2245 - val_acc: 0.7116\n",
      "Epoch 24/25\n",
      "4534/4534 [==============================] - 3s 660us/step - loss: 0.0216 - acc: 0.9987 - val_loss: 1.2353 - val_acc: 0.7116\n",
      "Epoch 25/25\n",
      "4534/4534 [==============================] - 3s 661us/step - loss: 0.0154 - acc: 0.9996 - val_loss: 1.2713 - val_acc: 0.7103\n"
     ]
    }
   ],
   "source": [
    "# Training the model\n",
    "history = model.fit(x_train,y_train,epochs=25,batch_size=50,validation_data=(x_val,y_val))"
   ]
  },
  {
   "cell_type": "code",
   "execution_count": 16,
   "metadata": {},
   "outputs": [
    {
     "data": {
      "image/png": "[encoded data removed]",
      "text/plain": [
       "<Figure size 432x288 with 1 Axes>"
      ]
     },
     "metadata": {
      "needs_background": "light"
     },
     "output_type": "display_data"
    }
   ],
   "source": [
    "# summarize history for accuracy\n",
    "plt.plot(history.history['acc'])\n",
    "plt.plot(history.history['val_acc'])\n",
    "plt.title('model accuracy')\n",
    "plt.ylabel('accuracy')\n",
    "plt.xlabel('epoch')\n",
    "plt.legend(['train', 'test'], loc='upper left')\n",
    "plt.show()"
   ]
  },
  {
   "cell_type": "code",
   "execution_count": 17,
   "metadata": {},
   "outputs": [
    {
     "data": {
      "image/png": "[encoded data removed]",
      "text/plain": [
       "<Figure size 432x288 with 1 Axes>"
      ]
     },
     "metadata": {
      "needs_background": "light"
     },
     "output_type": "display_data"
    }
   ],
   "source": [
    "# summarize history for loss\n",
    "plt.plot(history.history['loss'])\n",
    "plt.plot(history.history['val_loss'])\n",
    "plt.title('model loss')\n",
    "plt.ylabel('loss')\n",
    "plt.xlabel('epoch')\n",
    "plt.legend(['train', 'test'], loc='upper left')\n",
    "plt.show()"
   ]
  },
  {
   "cell_type": "code",
   "execution_count": 18,
   "metadata": {},
   "outputs": [
    {
     "name": "stdout",
     "output_type": "stream",
     "text": [
      "1512/1512 [==============================] - 1s 727us/step\n",
      "Test accuracy: 71.0317%\n"
     ]
    }
   ],
   "source": [
    "# Evaluating model on validation data\n",
    "score = model.evaluate(x_val, y_val, verbose=1)\n",
    "accuracy = 100*score[1]\n",
    "\n",
    "# print test accuracy\n",
    "print('Test accuracy: %.4f%%' % accuracy)"
   ]
  },
  {
   "cell_type": "code",
   "execution_count": 19,
   "metadata": {},
   "outputs": [
    {
     "name": "stdout",
     "output_type": "stream",
     "text": [
      "Saved model to disk\n"
     ]
    }
   ],
   "source": [
    "model.save_weights(\"MultiClasss_CNN_Keras(Model-1).h5\")\n",
    "print(\"Saved model to disk\")"
   ]
  },
  {
   "cell_type": "code",
   "execution_count": 23,
   "metadata": {},
   "outputs": [
    {
     "name": "stdout",
     "output_type": "stream",
     "text": [
      "[6]\n"
     ]
    }
   ],
   "source": [
    "img = cv2.imread('Elephant_3.jpg')\n",
    "img = cv2.resize(img,(50,50))\n",
    "img = np.reshape(img,[1,50,50,3])\n",
    "\n",
    "classes = model.predict_classes(img)\n",
    "\n",
    "print (classes)"
   ]
  },
  {
   "cell_type": "code",
   "execution_count": 26,
   "metadata": {},
   "outputs": [],
   "source": [
    "def get_class_name(classes):\n",
    "    if classes==0:\n",
    "        return \"Airoplane\"\n",
    "    if classes==1:\n",
    "        return \"Bus\"\n",
    "    if classes==2:\n",
    "        return \"Butterfly\"\n",
    "    if classes==3:\n",
    "        return \"Car\"\n",
    "    if classes==4:\n",
    "        return \"Cat\"\n",
    "    if classes==5:\n",
    "        return \"Dog\"\n",
    "    if classes==6:\n",
    "        return \"Elephant\"\n",
    "    if classes==7:\n",
    "        return \"Flower\"\n",
    "    if classes==8:\n",
    "        return \"Horse\"\n",
    "    if classes==9:\n",
    "        return \"Motorbike\""
   ]
  },
  {
   "cell_type": "code",
   "execution_count": 27,
   "metadata": {},
   "outputs": [
    {
     "data": {
      "text/plain": [
       "'Elephant'"
      ]
     },
     "execution_count": 27,
     "metadata": {},
     "output_type": "execute_result"
    }
   ],
   "source": [
    "get_class_name(classes)"
   ]
  },
  {
   "cell_type": "code",
   "execution_count": 39,
   "metadata": {},
   "outputs": [],
   "source": [
    "def predict_class(img):\n",
    "    img = cv2.imread(img)\n",
    "    img = cv2.resize(img,(50,50))\n",
    "    img = np.reshape(img,[1,50,50,3])\n",
    "\n",
    "    return model.predict_classes(img)"
   ]
  },
  {
   "cell_type": "code",
   "execution_count": 43,
   "metadata": {},
   "outputs": [
    {
     "data": {
      "text/plain": [
       "'Car'"
      ]
     },
     "execution_count": 43,
     "metadata": {},
     "output_type": "execute_result"
    }
   ],
   "source": [
    "get_class_name(predict_class('Car_19.jpg'))"
   ]
  },
  {
   "cell_type": "code",
   "execution_count": null,
   "metadata": {},
   "outputs": [],
   "source": []
  }
 ],
 "metadata": {
  "kernelspec": {
   "display_name": "Python 3",
   "language": "python",
   "name": "python3"
  },
  "language_info": {
   "codemirror_mode": {
    "name": "ipython",
    "version": 3
   },
   "file_extension": ".py",
   "mimetype": "text/x-python",
   "name": "python",
   "nbconvert_exporter": "python",
   "pygments_lexer": "ipython3",
   "version": "3.7.6"
  }
 },
 "nbformat": 4,
 "nbformat_minor": 1
}
