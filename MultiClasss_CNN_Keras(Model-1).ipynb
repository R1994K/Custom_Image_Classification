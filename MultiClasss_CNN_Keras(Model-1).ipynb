{
 "cells": [
  {
   "cell_type": "code",
   "execution_count": 3,
   "metadata": {
    "_cell_guid": "b1076dfc-b9ad-4769-8c92-a6c4dae69d19",
    "_uuid": "8f2839f25d086af736a60e9eeb907d3b93b6e0e5"
   },
   "outputs": [],
   "source": [
    "# Importing modules \n",
    "import numpy as np \n",
    "import pandas as pd \n",
    "import os\n",
    "import matplotlib.pyplot as plt\n",
    "import cv2\n",
    "from PIL import Image\n",
    "\n",
    "from keras.utils import to_categorical\n",
    "from keras.layers import Dense,Conv2D,Flatten,MaxPool2D,Dropout\n",
    "from keras.models import Sequential\n",
    "from keras.layers import MaxPooling2D , Input ,Activation\n",
    "from keras import backend as K\n",
    "from keras.optimizers import SGD\n",
    "\n",
    "from sklearn.model_selection import train_test_split\n",
    "\n",
    "np.random.seed(1)\n",
    "from tqdm import tqdm"
   ]
  },
  {
   "cell_type": "code",
   "execution_count": 4,
   "metadata": {},
   "outputs": [
    {
     "name": "stderr",
     "output_type": "stream",
     "text": [
      "100%|██████████████████████████████████████████████████████████████████████████████| 6046/6046 [04:18<00:00, 23.37it/s]\n"
     ]
    }
   ],
   "source": [
    "# Processing training data\n",
    "# -> appending images in a list 'train_images'\n",
    "# -> appending labels in a list 'train_labels'\n",
    "\n",
    "train_images = []       \n",
    "train_labels = []\n",
    "shape = (50,50)  \n",
    "train_path = 'Train(500)'\n",
    "\n",
    "for filename in tqdm(os.listdir('Train(500)')):\n",
    "    if filename.split('.')[1] == 'jpg':\n",
    "        img = cv2.imread(os.path.join(train_path,filename))\n",
    "        \n",
    "        # Spliting file names and storing the labels for image in list\n",
    "        train_labels.append(filename.split('_')[0])\n",
    "        \n",
    "        # Resize all images to a specific shape\n",
    "        img = cv2.resize(img,shape)\n",
    "        \n",
    "        train_images.append(img)\n",
    "\n",
    "# Converting labels into One Hot encoded sparse matrix\n",
    "train_labels = pd.get_dummies(train_labels).values\n",
    "\n",
    "# Converting train_images to array\n",
    "train_images = np.array(train_images)\n",
    "\n",
    "# Splitting Training data into train and validation dataset\n",
    "x_train,x_val,y_train,y_val = train_test_split(train_images,train_labels,random_state=1)"
   ]
  },
  {
   "cell_type": "code",
   "execution_count": 23,
   "metadata": {},
   "outputs": [
    {
     "name": "stdout",
     "output_type": "stream",
     "text": [
      "(4534, 50, 50, 3)\n",
      "(4534, 10)\n",
      "(1512, 50, 50, 3)\n",
      "(1512, 10)\n"
     ]
    }
   ],
   "source": [
    "print(x_train.shape)\n",
    "print(y_train.shape)\n",
    "print(x_val.shape)\n",
    "print(y_val.shape)"
   ]
  },
  {
   "cell_type": "code",
   "execution_count": 5,
   "metadata": {},
   "outputs": [
    {
     "name": "stderr",
     "output_type": "stream",
     "text": [
      "100%|██████████████████████████████████████████████████████████████████████████████| 2163/2163 [01:23<00:00, 25.95it/s]\n"
     ]
    }
   ],
   "source": [
    "# Processing testing data\n",
    "# -> appending images in a list 'test_images'\n",
    "# -> appending labels in a list 'test_labels'\n",
    "# The test data contains labels as well also we are appending it to a list but we are'nt going to use it while training.\n",
    "\n",
    "test_images = []\n",
    "test_labels = []\n",
    "shape = (50,50)\n",
    "test_path = 'Test(500)'\n",
    "\n",
    "for filename in tqdm(os.listdir('Test(500)')):\n",
    "    if filename.split('.')[1] == 'jpg':\n",
    "        img = cv2.imread(os.path.join(test_path,filename))\n",
    "        \n",
    "        # Spliting file names and storing the labels for image in list\n",
    "        test_labels.append(filename.split('_')[0])\n",
    "        \n",
    "        # Resize all images to a specific shape\n",
    "        img = cv2.resize(img,shape)\n",
    "        \n",
    "        test_images.append(img)\n",
    "        \n",
    "# Converting test_images to array\n",
    "test_images = np.array(test_images)"
   ]
  },
  {
   "cell_type": "code",
   "execution_count": 6,
   "metadata": {},
   "outputs": [
    {
     "name": "stdout",
     "output_type": "stream",
     "text": [
      "[1 0 0 0 0 0 0 0 0 0]\n"
     ]
    },
    {
     "data": {
      "text/plain": [
       "<matplotlib.image.AxesImage at 0x1daeb1562b0>"
      ]
     },
     "execution_count": 6,
     "metadata": {},
     "output_type": "execute_result"
    },
    {
     "data": {
      "image/png": "[encoded data removed]",
      "text/plain": [
       "<Figure size 432x288 with 1 Axes>"
      ]
     },
     "metadata": {
      "needs_background": "light"
     },
     "output_type": "display_data"
    }
   ],
   "source": [
    "# Visualizing Training data\n",
    "print(train_labels[0])\n",
    "plt.imshow(train_images[0])"
   ]
  },
  {
   "cell_type": "code",
   "execution_count": 7,
   "metadata": {},
   "outputs": [
    {
     "name": "stdout",
     "output_type": "stream",
     "text": [
      "[1 0 0 0 0 0 0 0 0 0]\n"
     ]
    },
    {
     "data": {
      "text/plain": [
       "<matplotlib.image.AxesImage at 0x1daee184390>"
      ]
     },
     "execution_count": 7,
     "metadata": {},
     "output_type": "execute_result"
    },
    {
     "data": {
      "image/png": "[encoded data removed]",
      "text/plain": [
       "<Figure size 432x288 with 1 Axes>"
      ]
     },
     "metadata": {
      "needs_background": "light"
     },
     "output_type": "display_data"
    }
   ],
   "source": [
    "# Visualizing Training data\n",
    "print(train_labels[4])\n",
    "plt.imshow(train_images[4])"
   ]
  },
  {
   "cell_type": "code",
   "execution_count": 18,
   "metadata": {},
   "outputs": [
    {
     "name": "stdout",
     "output_type": "stream",
     "text": [
      "Model: \"sequential_2\"\n",
      "_________________________________________________________________\n",
      "Layer (type)                 Output Shape              Param #   \n",
      "=================================================================\n",
      "conv2d_5 (Conv2D)            (None, 48, 48, 32)        896       \n",
      "_________________________________________________________________\n",
      "conv2d_6 (Conv2D)            (None, 46, 46, 30)        8670      \n",
      "_________________________________________________________________\n",
      "max_pooling2d_3 (MaxPooling2 (None, 23, 23, 30)        0         \n",
      "_________________________________________________________________\n",
      "conv2d_7 (Conv2D)            (None, 21, 21, 30)        8130      \n",
      "_________________________________________________________________\n",
      "max_pooling2d_4 (MaxPooling2 (None, 10, 10, 30)        0         \n",
      "_________________________________________________________________\n",
      "conv2d_8 (Conv2D)            (None, 8, 8, 30)          8130      \n",
      "_________________________________________________________________\n",
      "flatten_2 (Flatten)          (None, 1920)              0         \n",
      "_________________________________________________________________\n",
      "dense_4 (Dense)              (None, 20)                38420     \n",
      "_________________________________________________________________\n",
      "dense_5 (Dense)              (None, 15)                315       \n",
      "_________________________________________________________________\n",
      "dense_6 (Dense)              (None, 10)                160       \n",
      "=================================================================\n",
      "Total params: 64,721\n",
      "Trainable params: 64,721\n",
      "Non-trainable params: 0\n",
      "_________________________________________________________________\n"
     ]
    }
   ],
   "source": [
    "# Creating a Sequential model\n",
    "model= Sequential()\n",
    "model.add(Conv2D(kernel_size=(3,3), filters=32, activation='tanh', input_shape=(50,50,3,)))\n",
    "model.add(Conv2D(filters=30,kernel_size = (3,3),activation='tanh'))\n",
    "model.add(MaxPool2D(2,2))\n",
    "model.add(Conv2D(filters=30,kernel_size = (3,3),activation='tanh'))\n",
    "model.add(MaxPool2D(2,2))\n",
    "model.add(Conv2D(filters=30,kernel_size = (3,3),activation='tanh'))\n",
    "\n",
    "model.add(Flatten())\n",
    "\n",
    "model.add(Dense(20,activation='relu'))\n",
    "model.add(Dense(15,activation='relu'))\n",
    "model.add(Dense(10,activation = 'softmax'))\n",
    "    \n",
    "model.compile(\n",
    "              loss='categorical_crossentropy', \n",
    "              metrics=['acc'],\n",
    "              optimizer='adam')\n",
    "\n",
    "model.summary()"
   ]
  },
  {
   "cell_type": "code",
   "execution_count": 10,
   "metadata": {
    "scrolled": false
   },
   "outputs": [
    {
     "name": "stdout",
     "output_type": "stream",
     "text": [
      "Train on 4534 samples, validate on 1512 samples\n",
      "Epoch 1/25\n",
      "4534/4534 [==============================] - 43s 9ms/step - loss: 1.5362 - acc: 0.4455 - val_loss: 1.4834 - val_acc: 0.4603\n",
      "Epoch 2/25\n",
      "4534/4534 [==============================] - 41s 9ms/step - loss: 1.2633 - acc: 0.5448 - val_loss: 1.1931 - val_acc: 0.5595\n",
      "Epoch 3/25\n",
      "4534/4534 [==============================] - 37s 8ms/step - loss: 1.0913 - acc: 0.6065 - val_loss: 1.0536 - val_acc: 0.6144\n",
      "Epoch 4/25\n",
      "4534/4534 [==============================] - 39s 9ms/step - loss: 0.9649 - acc: 0.6544 - val_loss: 1.0254 - val_acc: 0.6157\n",
      "Epoch 5/25\n",
      "4534/4534 [==============================] - 39s 9ms/step - loss: 0.8350 - acc: 0.6906 - val_loss: 0.9353 - val_acc: 0.6620\n",
      "Epoch 6/25\n",
      "4534/4534 [==============================] - 39s 8ms/step - loss: 0.7758 - acc: 0.7168 - val_loss: 0.9934 - val_acc: 0.6422\n",
      "Epoch 7/25\n",
      "4534/4534 [==============================] - 39s 9ms/step - loss: 0.7111 - acc: 0.7314 - val_loss: 0.8952 - val_acc: 0.6614\n",
      "Epoch 8/25\n",
      "4534/4534 [==============================] - 39s 9ms/step - loss: 0.6288 - acc: 0.7651 - val_loss: 0.8867 - val_acc: 0.6627\n",
      "Epoch 9/25\n",
      "4534/4534 [==============================] - 39s 9ms/step - loss: 0.6058 - acc: 0.7797 - val_loss: 0.9318 - val_acc: 0.6581\n",
      "Epoch 10/25\n",
      "4534/4534 [==============================] - 39s 9ms/step - loss: 0.5340 - acc: 0.8013 - val_loss: 0.9057 - val_acc: 0.6680\n",
      "Epoch 11/25\n",
      "4534/4534 [==============================] - 40s 9ms/step - loss: 0.4588 - acc: 0.8251 - val_loss: 0.9023 - val_acc: 0.6885\n",
      "Epoch 12/25\n",
      "4534/4534 [==============================] - 39s 9ms/step - loss: 0.4254 - acc: 0.8427 - val_loss: 0.9338 - val_acc: 0.6806\n",
      "Epoch 13/25\n",
      "4534/4534 [==============================] - 38s 8ms/step - loss: 0.3672 - acc: 0.8712 - val_loss: 0.9153 - val_acc: 0.6971\n",
      "Epoch 14/25\n",
      "4534/4534 [==============================] - 39s 9ms/step - loss: 0.3427 - acc: 0.8760 - val_loss: 1.0076 - val_acc: 0.6832\n",
      "Epoch 15/25\n",
      "4534/4534 [==============================] - 39s 9ms/step - loss: 0.3010 - acc: 0.8926 - val_loss: 1.0350 - val_acc: 0.6766\n",
      "Epoch 16/25\n",
      "4534/4534 [==============================] - 39s 9ms/step - loss: 0.2719 - acc: 0.9085 - val_loss: 1.0326 - val_acc: 0.6845\n",
      "Epoch 17/25\n",
      "4534/4534 [==============================] - 38s 8ms/step - loss: 0.2376 - acc: 0.9180 - val_loss: 1.0143 - val_acc: 0.6984\n",
      "Epoch 18/25\n",
      "4534/4534 [==============================] - 38s 8ms/step - loss: 0.2189 - acc: 0.9301 - val_loss: 1.0193 - val_acc: 0.6944\n",
      "Epoch 19/25\n",
      "4534/4534 [==============================] - 38s 8ms/step - loss: 0.2052 - acc: 0.9336 - val_loss: 1.1008 - val_acc: 0.6865\n",
      "Epoch 20/25\n",
      "4534/4534 [==============================] - 38s 8ms/step - loss: 0.1534 - acc: 0.9552 - val_loss: 1.0703 - val_acc: 0.6978\n",
      "Epoch 21/25\n",
      "4534/4534 [==============================] - 39s 9ms/step - loss: 0.1054 - acc: 0.9735 - val_loss: 1.1553 - val_acc: 0.6865\n",
      "Epoch 22/25\n",
      "4534/4534 [==============================] - 38s 8ms/step - loss: 0.0953 - acc: 0.9760 - val_loss: 1.2213 - val_acc: 0.6918\n",
      "Epoch 23/25\n",
      "4534/4534 [==============================] - 40s 9ms/step - loss: 0.0835 - acc: 0.9806 - val_loss: 1.1950 - val_acc: 0.6984\n",
      "Epoch 24/25\n",
      "4534/4534 [==============================] - 40s 9ms/step - loss: 0.0883 - acc: 0.9768 - val_loss: 1.2583 - val_acc: 0.6944\n",
      "Epoch 25/25\n",
      "4534/4534 [==============================] - 39s 9ms/step - loss: 0.0569 - acc: 0.9868 - val_loss: 1.2980 - val_acc: 0.6865\n"
     ]
    }
   ],
   "source": [
    "# Training the model\n",
    "history = model.fit(x_train,y_train,epochs=25,batch_size=50,validation_data=(x_val,y_val))"
   ]
  },
  {
   "cell_type": "code",
   "execution_count": 11,
   "metadata": {},
   "outputs": [
    {
     "data": {
      "image/png": "[encoded data removed]",
      "text/plain": [
       "<Figure size 432x288 with 1 Axes>"
      ]
     },
     "metadata": {
      "needs_background": "light"
     },
     "output_type": "display_data"
    }
   ],
   "source": [
    "# summarize history for accuracy\n",
    "plt.plot(history.history['acc'])\n",
    "plt.plot(history.history['val_acc'])\n",
    "plt.title('model accuracy')\n",
    "plt.ylabel('accuracy')\n",
    "plt.xlabel('epoch')\n",
    "plt.legend(['train', 'test'], loc='upper left')\n",
    "plt.show()"
   ]
  },
  {
   "cell_type": "code",
   "execution_count": 12,
   "metadata": {},
   "outputs": [
    {
     "data": {
      "image/png": "[encoded data removed]",
      "text/plain": [
       "<Figure size 432x288 with 1 Axes>"
      ]
     },
     "metadata": {
      "needs_background": "light"
     },
     "output_type": "display_data"
    }
   ],
   "source": [
    "# summarize history for loss\n",
    "plt.plot(history.history['loss'])\n",
    "plt.plot(history.history['val_loss'])\n",
    "plt.title('model loss')\n",
    "plt.ylabel('loss')\n",
    "plt.xlabel('epoch')\n",
    "plt.legend(['train', 'test'], loc='upper left')\n",
    "plt.show()"
   ]
  },
  {
   "cell_type": "code",
   "execution_count": 13,
   "metadata": {},
   "outputs": [
    {
     "name": "stdout",
     "output_type": "stream",
     "text": [
      "1512/1512 [==============================] - 4s 2ms/step\n",
      "Test accuracy: 68.6508%\n"
     ]
    }
   ],
   "source": [
    "# Evaluating model on validation data\n",
    "score = model.evaluate(x_val, y_val, verbose=1)\n",
    "accuracy = 100*score[1]\n",
    "\n",
    "# print test accuracy\n",
    "print('Test accuracy: %.4f%%' % accuracy)"
   ]
  },
  {
   "cell_type": "code",
   "execution_count": 14,
   "metadata": {},
   "outputs": [
    {
     "name": "stdout",
     "output_type": "stream",
     "text": [
      "Saved model to disk\n"
     ]
    }
   ],
   "source": [
    "model.save_weights(\"MultiClasss_CNN_Keras(Model-1).h5\")\n",
    "print(\"Saved model to disk\")"
   ]
  },
  {
   "cell_type": "code",
   "execution_count": 15,
   "metadata": {},
   "outputs": [
    {
     "name": "stdout",
     "output_type": "stream",
     "text": [
      "[8]\n"
     ]
    }
   ],
   "source": [
    "img = cv2.imread('Horse_1.jpg')\n",
    "img = cv2.resize(img,(50,50))\n",
    "img = np.reshape(img,[1,50,50,3])\n",
    "\n",
    "classes = model.predict_classes(img)\n",
    "\n",
    "print (classes)"
   ]
  },
  {
   "cell_type": "code",
   "execution_count": 16,
   "metadata": {},
   "outputs": [],
   "source": [
    "def get_animal_name(classes):\n",
    "    if classes==0:\n",
    "        return \"Airoplane\"\n",
    "    if classes==1:\n",
    "        return \"Bus\"\n",
    "    if classes==2:\n",
    "        return \"Butterfly\"\n",
    "    if classes==3:\n",
    "        return \"Car\"\n",
    "    if classes==4:\n",
    "        return \"Cat\"\n",
    "    if classes==5:\n",
    "        return \"Dog\"\n",
    "    if classes==6:\n",
    "        return \"Elephant\"\n",
    "    if classes==7:\n",
    "        return \"Flower\"\n",
    "    if classes==8:\n",
    "        return \"Horse\"\n",
    "    if classes==9:\n",
    "        return \"Motorbike\""
   ]
  },
  {
   "cell_type": "code",
   "execution_count": 17,
   "metadata": {},
   "outputs": [
    {
     "data": {
      "text/plain": [
       "'Horse'"
      ]
     },
     "execution_count": 17,
     "metadata": {},
     "output_type": "execute_result"
    }
   ],
   "source": [
    "get_animal_name(classes)"
   ]
  },
  {
   "cell_type": "code",
   "execution_count": null,
   "metadata": {},
   "outputs": [],
   "source": []
  }
 ],
 "metadata": {
  "kernelspec": {
   "display_name": "Python 3",
   "language": "python",
   "name": "python3"
  },
  "language_info": {
   "codemirror_mode": {
    "name": "ipython",
    "version": 3
   },
   "file_extension": ".py",
   "mimetype": "text/x-python",
   "name": "python",
   "nbconvert_exporter": "python",
   "pygments_lexer": "ipython3",
   "version": "3.6.10"
  }
 },
 "nbformat": 4,
 "nbformat_minor": 1
}
