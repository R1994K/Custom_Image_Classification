{
 "cells": [
  {
   "cell_type": "code",
   "execution_count": 31,
   "metadata": {
    "_cell_guid": "b1076dfc-b9ad-4769-8c92-a6c4dae69d19",
    "_kg_hide-output": false,
    "_uuid": "8f2839f25d086af736a60e9eeb907d3b93b6e0e5"
   },
   "outputs": [],
   "source": [
    "import tensorflow as tf\n",
    "from tensorflow import keras\n",
    "\n",
    "import matplotlib.pyplot as plt\n",
    "import numpy as np\n",
    "from os import listdir\n",
    "from os.path import join\n",
    "from PIL import Image\n",
    "from tqdm import tqdm\n",
    "import cv2\n",
    "import pandas\n",
    "import os\n",
    "import random\n",
    "\n",
    "from sklearn.model_selection import train_test_split\n",
    "\n",
    "from keras.utils import to_categorical\n",
    "from keras.layers import Dense,Conv2D,Flatten,MaxPool2D,Dropout\n",
    "from keras.layers import Conv2D , Input,SeparableConv2D,AveragePooling2D,BatchNormalization,Activation\n",
    "from keras.models import Sequential"
   ]
  },
  {
   "cell_type": "code",
   "execution_count": 2,
   "metadata": {
    "_cell_guid": "79c7e3d0-c299-4dcb-8224-4455121ee9b0",
    "_uuid": "d629ff2d2480ee46fbb7e2d37f6b5fab8052498a"
   },
   "outputs": [
    {
     "name": "stdout",
     "output_type": "stream",
     "text": [
      "['Airoplane', 'Bus', 'Butterfly', 'Car', 'Cat', 'Dog', 'Elephant', 'Flower', 'Horse', 'Motorbike']\n"
     ]
    }
   ],
   "source": [
    "data = \"Images(Image Size - 500)\"\n",
    "\n",
    "folders = os.listdir(data)\n",
    "\n",
    "print(folders)"
   ]
  },
  {
   "cell_type": "code",
   "execution_count": 3,
   "metadata": {
    "_uuid": "18d55fd068cd1ca21ed14a4e566b215a75e9d45e"
   },
   "outputs": [
    {
     "name": "stderr",
     "output_type": "stream",
     "text": [
      "100%|███████████████████████████████████████████████████████████████████████████████| 727/727 [00:05<00:00, 126.14it/s]\n",
      "100%|███████████████████████████████████████████████████████████████████████████████| 934/934 [00:08<00:00, 113.96it/s]\n",
      "100%|███████████████████████████████████████████████████████████████████████████████| 832/832 [00:06<00:00, 119.19it/s]\n",
      "100%|█████████████████████████████████████████████████████████████████████████████| 1000/1000 [00:08<00:00, 113.59it/s]\n",
      "100%|█████████████████████████████████████████████████████████████████████████████| 1000/1000 [00:08<00:00, 114.48it/s]\n",
      "100%|█████████████████████████████████████████████████████████████████████████████| 1000/1000 [00:08<00:00, 113.86it/s]\n",
      "100%|████████████████████████████████████████████████████████████████████████████████| 405/405 [00:04<00:00, 94.44it/s]\n",
      "100%|██████████████████████████████████████████████████████████████████████████████| 1000/1000 [00:10<00:00, 98.81it/s]\n",
      "100%|███████████████████████████████████████████████████████████████████████████████| 523/523 [00:05<00:00, 100.31it/s]\n",
      "100%|███████████████████████████████████████████████████████████████████████████████| 788/788 [00:06<00:00, 122.04it/s]\n"
     ]
    }
   ],
   "source": [
    "image_names = []\n",
    "train_labels = []\n",
    "train_images = []\n",
    "\n",
    "size = 64,64\n",
    "\n",
    "for folder in folders:\n",
    "    for file in tqdm(os.listdir(os.path.join(data,folder))):\n",
    "        if file.endswith(\"jpg\"):\n",
    "            image_names.append(os.path.join(data,folder,file))\n",
    "            train_labels.append(folder)\n",
    "            img = cv2.imread(os.path.join(data,folder,file))\n",
    "            im = cv2.resize(img,size)\n",
    "            train_images.append(im)\n",
    "        else:\n",
    "            continue\n",
    "      "
   ]
  },
  {
   "cell_type": "code",
   "execution_count": 5,
   "metadata": {
    "_uuid": "8ea726765c318e3e855d37b262a7b9ac66bf3351"
   },
   "outputs": [
    {
     "data": {
      "text/plain": [
       "(8209, 64, 64, 3)"
      ]
     },
     "execution_count": 5,
     "metadata": {},
     "output_type": "execute_result"
    }
   ],
   "source": [
    "# Transform the image array to a numpy type\n",
    "\n",
    "train = np.array(train_images)\n",
    "\n",
    "train.shape"
   ]
  },
  {
   "cell_type": "code",
   "execution_count": 6,
   "metadata": {
    "_uuid": "7946f5528f1217ef93cd94df26320ed1b5722935"
   },
   "outputs": [],
   "source": [
    "# Reduce the RGB values between 0 and 1\n",
    "\n",
    "train = train.astype('float32') / 255.0"
   ]
  },
  {
   "cell_type": "code",
   "execution_count": 7,
   "metadata": {
    "_uuid": "5b0e814039e66a966e8cebe4662b502a788de87b"
   },
   "outputs": [],
   "source": [
    "# Extract the labels\n",
    "\n",
    "label_dummies = pandas.get_dummies(train_labels)\n",
    "\n",
    "labels =  label_dummies.values.argmax(1)"
   ]
  },
  {
   "cell_type": "code",
   "execution_count": 8,
   "metadata": {
    "_uuid": "111462613dba646ccad64e2221175ff86b84bc0b"
   },
   "outputs": [
    {
     "data": {
      "text/plain": [
       "array(['Airoplane', 'Bus', 'Butterfly', 'Car', 'Cat', 'Dog', 'Elephant',\n",
       "       'Flower', 'Horse', 'Motorbike'], dtype=object)"
      ]
     },
     "execution_count": 8,
     "metadata": {},
     "output_type": "execute_result"
    }
   ],
   "source": [
    "pandas.unique(train_labels)"
   ]
  },
  {
   "cell_type": "code",
   "execution_count": 9,
   "metadata": {
    "_uuid": "3b2373c20c84544a16dd071395289e85f0222724"
   },
   "outputs": [
    {
     "data": {
      "text/plain": [
       "array([0, 1, 2, 3, 4, 5, 6, 7, 8, 9], dtype=int64)"
      ]
     },
     "execution_count": 9,
     "metadata": {},
     "output_type": "execute_result"
    }
   ],
   "source": [
    "pandas.unique(labels)"
   ]
  },
  {
   "cell_type": "code",
   "execution_count": 10,
   "metadata": {
    "_uuid": "09860dbb816fa04eef09fc2d4fa260403c0af079"
   },
   "outputs": [],
   "source": [
    "# Shuffle the labels and images randomly for better results\n",
    "\n",
    "union_list = list(zip(train, labels))\n",
    "random.shuffle(union_list)\n",
    "train,labels = zip(*union_list)\n",
    "\n",
    "# Convert the shuffled list to numpy array type\n",
    "\n",
    "train = np.array(train)\n",
    "labels = np.array(labels)"
   ]
  },
  {
   "cell_type": "code",
   "execution_count": 11,
   "metadata": {},
   "outputs": [],
   "source": [
    "x_train,x_val,y_train,y_val = train_test_split(train,labels,random_state=1)"
   ]
  },
  {
   "cell_type": "code",
   "execution_count": 12,
   "metadata": {
    "_uuid": "31958ba17cb150683936e02e3556833bd928bd71"
   },
   "outputs": [
    {
     "name": "stdout",
     "output_type": "stream",
     "text": [
      "WARNING:tensorflow:From C:\\Users\\HP\\.conda\\envs\\v_env\\lib\\site-packages\\keras\\backend\\tensorflow_backend.py:4070: The name tf.nn.max_pool is deprecated. Please use tf.nn.max_pool2d instead.\n",
      "\n",
      "Model: \"sequential_1\"\n",
      "_________________________________________________________________\n",
      "Layer (type)                 Output Shape              Param #   \n",
      "=================================================================\n",
      "conv2d_1 (Conv2D)            (None, 62, 62, 32)        896       \n",
      "_________________________________________________________________\n",
      "conv2d_2 (Conv2D)            (None, 60, 60, 30)        8670      \n",
      "_________________________________________________________________\n",
      "max_pooling2d_1 (MaxPooling2 (None, 30, 30, 30)        0         \n",
      "_________________________________________________________________\n",
      "conv2d_3 (Conv2D)            (None, 28, 28, 30)        8130      \n",
      "_________________________________________________________________\n",
      "max_pooling2d_2 (MaxPooling2 (None, 14, 14, 30)        0         \n",
      "_________________________________________________________________\n",
      "conv2d_4 (Conv2D)            (None, 12, 12, 30)        8130      \n",
      "_________________________________________________________________\n",
      "flatten_1 (Flatten)          (None, 4320)              0         \n",
      "_________________________________________________________________\n",
      "dense_1 (Dense)              (None, 20)                86420     \n",
      "_________________________________________________________________\n",
      "dense_2 (Dense)              (None, 15)                315       \n",
      "_________________________________________________________________\n",
      "dense_3 (Dense)              (None, 10)                160       \n",
      "=================================================================\n",
      "Total params: 112,721\n",
      "Trainable params: 112,721\n",
      "Non-trainable params: 0\n",
      "_________________________________________________________________\n"
     ]
    }
   ],
   "source": [
    "# Creating a Sequential model\n",
    "model= Sequential()\n",
    "model.add(Conv2D(kernel_size=(3,3), filters=32, activation='tanh', input_shape=(64,64,3,)))\n",
    "model.add(Conv2D(filters=30,kernel_size = (3,3),activation='tanh'))\n",
    "model.add(MaxPool2D(2,2))\n",
    "model.add(Conv2D(filters=30,kernel_size = (3,3),activation='tanh'))\n",
    "model.add(MaxPool2D(2,2))\n",
    "model.add(Conv2D(filters=30,kernel_size = (3,3),activation='tanh'))\n",
    "\n",
    "model.add(Flatten())\n",
    "\n",
    "model.add(Dense(20,activation='relu'))\n",
    "model.add(Dense(15,activation='relu'))\n",
    "model.add(Dense(10,activation = 'softmax'))\n",
    "\n",
    "model.summary()\n",
    "\n",
    "# Compute the model parameters\n",
    "model.compile(optimizer=tf.train.AdamOptimizer(), \n",
    "              loss='sparse_categorical_crossentropy',\n",
    "              metrics=['accuracy'])"
   ]
  },
  {
   "cell_type": "code",
   "execution_count": 13,
   "metadata": {
    "_uuid": "f438f031c38fa58cd6c35c679560e3babacccc86",
    "scrolled": false
   },
   "outputs": [
    {
     "name": "stdout",
     "output_type": "stream",
     "text": [
      "WARNING:tensorflow:From C:\\Users\\HP\\.conda\\envs\\v_env\\lib\\site-packages\\keras\\backend\\tensorflow_backend.py:422: The name tf.global_variables is deprecated. Please use tf.compat.v1.global_variables instead.\n",
      "\n",
      "WARNING:tensorflow:From C:\\Users\\HP\\.conda\\envs\\v_env\\lib\\site-packages\\keras\\backend\\tensorflow_backend.py:431: The name tf.is_variable_initialized is deprecated. Please use tf.compat.v1.is_variable_initialized instead.\n",
      "\n",
      "WARNING:tensorflow:From C:\\Users\\HP\\.conda\\envs\\v_env\\lib\\site-packages\\keras\\backend\\tensorflow_backend.py:438: The name tf.variables_initializer is deprecated. Please use tf.compat.v1.variables_initializer instead.\n",
      "\n",
      "Epoch 1/20\n",
      "6156/6156 [==============================] - 86s 14ms/step - loss: 1.6674 - accuracy: 0.4111\n",
      "Epoch 2/20\n",
      "6156/6156 [==============================] - 85s 14ms/step - loss: 1.1566 - accuracy: 0.5879\n",
      "Epoch 3/20\n",
      "6156/6156 [==============================] - 85s 14ms/step - loss: 0.9585 - accuracy: 0.6584\n",
      "Epoch 4/20\n",
      "6156/6156 [==============================] - 88s 14ms/step - loss: 0.8034 - accuracy: 0.7040\n",
      "Epoch 5/20\n",
      "6156/6156 [==============================] - 87s 14ms/step - loss: 0.6869 - accuracy: 0.7385\n",
      "Epoch 6/20\n",
      "6156/6156 [==============================] - 85s 14ms/step - loss: 0.5795 - accuracy: 0.7856\n",
      "Epoch 7/20\n",
      "6156/6156 [==============================] - 85s 14ms/step - loss: 0.4892 - accuracy: 0.8200\n",
      "Epoch 8/20\n",
      "6156/6156 [==============================] - 86s 14ms/step - loss: 0.4080 - accuracy: 0.8510\n",
      "Epoch 9/20\n",
      "6156/6156 [==============================] - 258s 42ms/step - loss: 0.3561 - accuracy: 0.8697\n",
      "Epoch 10/20\n",
      "6156/6156 [==============================] - 74s 12ms/step - loss: 0.3006 - accuracy: 0.8899\n",
      "Epoch 11/20\n",
      "6156/6156 [==============================] - 86s 14ms/step - loss: 0.2324 - accuracy: 0.9186\n",
      "Epoch 12/20\n",
      "6156/6156 [==============================] - 87s 14ms/step - loss: 0.1863 - accuracy: 0.9349\n",
      "Epoch 13/20\n",
      "6156/6156 [==============================] - 89s 14ms/step - loss: 0.1688 - accuracy: 0.9386\n",
      "Epoch 14/20\n",
      "6156/6156 [==============================] - 87s 14ms/step - loss: 0.1533 - accuracy: 0.9482\n",
      "Epoch 15/20\n",
      "6156/6156 [==============================] - 84s 14ms/step - loss: 0.1114 - accuracy: 0.9633\n",
      "Epoch 16/20\n",
      "6156/6156 [==============================] - 85s 14ms/step - loss: 0.0674 - accuracy: 0.9813\n",
      "Epoch 17/20\n",
      "6156/6156 [==============================] - 84s 14ms/step - loss: 0.0731 - accuracy: 0.9795\n",
      "Epoch 18/20\n",
      "6156/6156 [==============================] - 85s 14ms/step - loss: 0.0711 - accuracy: 0.9771\n",
      "Epoch 19/20\n",
      "6156/6156 [==============================] - 88s 14ms/step - loss: 0.0666 - accuracy: 0.9786\n",
      "Epoch 20/20\n",
      "6156/6156 [==============================] - 294s 48ms/step - loss: 0.1066 - accuracy: 0.9618\n"
     ]
    }
   ],
   "source": [
    "# Train the model  with 50 epochs \n",
    "# For CNN Model\n",
    "history = model.fit(x_train,y_train, epochs=20)"
   ]
  },
  {
   "cell_type": "code",
   "execution_count": 24,
   "metadata": {},
   "outputs": [
    {
     "name": "stdout",
     "output_type": "stream",
     "text": [
      "2053/2053 [==============================] - 8s 4ms/step\n",
      "Test accuracy: 71.5538%\n"
     ]
    }
   ],
   "source": [
    "score = model.evaluate(x_val, y_val, verbose=1)\n",
    "accuracy = 100*score[1]\n",
    "\n",
    "# print test accuracy\n",
    "print('Test accuracy: %.4f%%' % accuracy)"
   ]
  },
  {
   "cell_type": "code",
   "execution_count": 25,
   "metadata": {},
   "outputs": [
    {
     "name": "stderr",
     "output_type": "stream",
     "text": [
      "C:\\Users\\HP\\.conda\\envs\\v_env\\lib\\site-packages\\keras\\engine\\saving.py:165: UserWarning: TensorFlow optimizers do not make it possible to access optimizer attributes or optimizer state after instantiation. As a result, we cannot save the optimizer as part of the model save file.You will have to compile your model again after loading it. Prefer using a Keras optimizer instead (see keras.io/optimizers).\n",
      "  'TensorFlow optimizers do not '\n"
     ]
    }
   ],
   "source": [
    "model.save(\"MultiClasss_CNN_Keras(Model-2).h5\")"
   ]
  },
  {
   "cell_type": "code",
   "execution_count": 26,
   "metadata": {},
   "outputs": [
    {
     "data": {
      "image/png": "[encoded data removed]",
      "text/plain": [
       "<Figure size 432x288 with 1 Axes>"
      ]
     },
     "metadata": {
      "needs_background": "light"
     },
     "output_type": "display_data"
    }
   ],
   "source": [
    "# summarize history for accuracy\n",
    "plt.plot(history.history['accuracy'])\n",
    "# plt.plot(history.history['val_acc'])\n",
    "plt.title('model accuracy')\n",
    "plt.ylabel('accuracy')\n",
    "plt.xlabel('epoch')\n",
    "plt.legend(['train', 'test'], loc='upper left')\n",
    "plt.show()"
   ]
  },
  {
   "cell_type": "code",
   "execution_count": 27,
   "metadata": {},
   "outputs": [
    {
     "data": {
      "image/png": "[encoded data removed]",
      "text/plain": [
       "<Figure size 432x288 with 1 Axes>"
      ]
     },
     "metadata": {
      "needs_background": "light"
     },
     "output_type": "display_data"
    }
   ],
   "source": [
    "# summarize history for loss\n",
    "plt.plot(history.history['loss'])\n",
    "# plt.plot(history.history['val_loss'])\n",
    "plt.title('model loss')\n",
    "plt.ylabel('loss')\n",
    "plt.xlabel('epoch')\n",
    "plt.legend(['train', 'test'], loc='upper left')\n",
    "plt.show()"
   ]
  },
  {
   "cell_type": "code",
   "execution_count": 28,
   "metadata": {},
   "outputs": [
    {
     "name": "stdout",
     "output_type": "stream",
     "text": [
      "[2]\n"
     ]
    }
   ],
   "source": [
    "img = cv2.imread('Elephant_3.jpg')\n",
    "img = cv2.resize(img,(64,64))\n",
    "img = np.reshape(img,[1,64,64,3])\n",
    "\n",
    "classes = model.predict_classes(img)\n",
    "\n",
    "print (classes)"
   ]
  },
  {
   "cell_type": "code",
   "execution_count": 29,
   "metadata": {},
   "outputs": [],
   "source": [
    "def get_animal_name(classes):\n",
    "    if classes==0:\n",
    "        return \"Airoplane\"\n",
    "    if classes==1:\n",
    "        return \"Bus\"\n",
    "    if classes==2:\n",
    "        return \"Butterfly\"\n",
    "    if classes==3:\n",
    "        return \"Car\"\n",
    "    if classes==4:\n",
    "        return \"Cat\"\n",
    "    if classes==5:\n",
    "        return \"Dog\"\n",
    "    if classes==6:\n",
    "        return \"Elephant\"\n",
    "    if classes==7:\n",
    "        return \"Flower\"\n",
    "    if classes==8:\n",
    "        return \"Horse\"\n",
    "    if classes==9:\n",
    "        return \"Motorbike\""
   ]
  },
  {
   "cell_type": "code",
   "execution_count": 30,
   "metadata": {},
   "outputs": [
    {
     "data": {
      "text/plain": [
       "'Butterfly'"
      ]
     },
     "execution_count": 30,
     "metadata": {},
     "output_type": "execute_result"
    }
   ],
   "source": [
    "get_animal_name(classes)"
   ]
  },
  {
   "cell_type": "code",
   "execution_count": null,
   "metadata": {},
   "outputs": [],
   "source": []
  },
  {
   "cell_type": "code",
   "execution_count": null,
   "metadata": {},
   "outputs": [],
   "source": []
  },
  {
   "cell_type": "code",
   "execution_count": null,
   "metadata": {},
   "outputs": [],
   "source": []
  }
 ],
 "metadata": {
  "kernelspec": {
   "display_name": "Python 3",
   "language": "python",
   "name": "python3"
  },
  "language_info": {
   "codemirror_mode": {
    "name": "ipython",
    "version": 3
   },
   "file_extension": ".py",
   "mimetype": "text/x-python",
   "name": "python",
   "nbconvert_exporter": "python",
   "pygments_lexer": "ipython3",
   "version": "3.6.10"
  }
 },
 "nbformat": 4,
 "nbformat_minor": 1
}
